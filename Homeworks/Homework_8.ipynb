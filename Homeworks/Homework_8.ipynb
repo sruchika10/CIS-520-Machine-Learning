{
  "nbformat": 4,
  "nbformat_minor": 0,
  "metadata": {
    "colab": {
      "provenance": []
    },
    "kernelspec": {
      "name": "python3",
      "display_name": "Python 3"
    }
  },
  "cells": [
    {
      "cell_type": "markdown",
      "metadata": {
        "id": "_UKlfxyyTuz1"
      },
      "source": [
        "# **CIS 520: Machine Learning, Fall 2022**\n",
        "# **LDA HW**\n",
        "\n",
        "\n",
        "\n",
        "\n",
        "- **Content Checkers: Edward Li, Hyungseok (Paul) Roh, Keshav Ramji** \n",
        "- This worksheet is partially **adapted** from: https://colab.research.google.com/github/jakevdp/PythonDataScienceHandbook/blob/master/notebooks/05.05-Naive-Bayes.ipynb#scrollTo=LOj40WjbveIX"
      ]
    },
    {
      "cell_type": "markdown",
      "source": [
        " ## Download the Data"
      ],
      "metadata": {
        "id": "dcIawhJSdx6M"
      }
    },
    {
      "cell_type": "code",
      "source": [
        "# Imports\n",
        "from sklearn.datasets import fetch_20newsgroups\n",
        "from sklearn.feature_extraction.text import TfidfVectorizer, CountVectorizer\n",
        "from sklearn.pipeline import make_pipeline\n",
        "from sklearn.metrics import confusion_matrix\n",
        "from matplotlib import pyplot as plt\n",
        "import seaborn as sns\n",
        "import numpy as np"
      ],
      "metadata": {
        "id": "bmSAJUaFaxrp"
      },
      "execution_count": null,
      "outputs": []
    },
    {
      "cell_type": "code",
      "metadata": {
        "deletable": true,
        "editable": true,
        "id": "e2Mk_3K8veHZ",
        "colab": {
          "base_uri": "https://localhost:8080/"
        },
        "outputId": "d6a4c5ad-2091-4473-d1b0-f0166a11a695"
      },
      "source": [
        "data = fetch_20newsgroups()\n",
        "data.target_names"
      ],
      "execution_count": null,
      "outputs": [
        {
          "output_type": "execute_result",
          "data": {
            "text/plain": [
              "['alt.atheism',\n",
              " 'comp.graphics',\n",
              " 'comp.os.ms-windows.misc',\n",
              " 'comp.sys.ibm.pc.hardware',\n",
              " 'comp.sys.mac.hardware',\n",
              " 'comp.windows.x',\n",
              " 'misc.forsale',\n",
              " 'rec.autos',\n",
              " 'rec.motorcycles',\n",
              " 'rec.sport.baseball',\n",
              " 'rec.sport.hockey',\n",
              " 'sci.crypt',\n",
              " 'sci.electronics',\n",
              " 'sci.med',\n",
              " 'sci.space',\n",
              " 'soc.religion.christian',\n",
              " 'talk.politics.guns',\n",
              " 'talk.politics.mideast',\n",
              " 'talk.politics.misc',\n",
              " 'talk.religion.misc']"
            ]
          },
          "metadata": {},
          "execution_count": 2
        }
      ]
    },
    {
      "cell_type": "markdown",
      "metadata": {
        "deletable": true,
        "editable": true,
        "id": "zKNRbS5tveHc"
      },
      "source": [
        "For simplicity here, we will select just a few of these categories, and download the training and testing set:"
      ]
    },
    {
      "cell_type": "code",
      "metadata": {
        "deletable": true,
        "editable": true,
        "id": "mQEQCVXPveHc"
      },
      "source": [
        "categories = ['talk.politics.mideast', 'comp.graphics',\n",
        "              'sci.med', 'rec.sport.baseball']\n",
        "train = fetch_20newsgroups(subset='train', categories=categories)\n",
        "test = fetch_20newsgroups(subset='test', categories=categories)"
      ],
      "execution_count": null,
      "outputs": []
    },
    {
      "cell_type": "markdown",
      "metadata": {
        "deletable": true,
        "editable": true,
        "id": "k2fSKVe7veHi"
      },
      "source": [
        "Here is a representative entry from the data:"
      ]
    },
    {
      "cell_type": "code",
      "metadata": {
        "deletable": true,
        "editable": true,
        "id": "bgEIH1lhveHj",
        "colab": {
          "base_uri": "https://localhost:8080/"
        },
        "outputId": "06dcc52e-d41a-44d7-bbb0-5d129dbbd074"
      },
      "source": [
        "print(train.data[0])"
      ],
      "execution_count": null,
      "outputs": [
        {
          "output_type": "stream",
          "name": "stdout",
          "text": [
            "From: rind@enterprise.bih.harvard.edu (David Rind)\n",
            "Subject: Re: Arrhythmia\n",
            "Organization: Beth Israel Hospital, Harvard Medical School, Boston Mass., USA\n",
            "Lines: 26\n",
            "NNTP-Posting-Host: enterprise.bih.harvard.edu\n",
            "\n",
            "In article <1993Apr22.205509.23198@husc3.harvard.edu>\n",
            " perry1@husc10.harvard.edu (Alexis Perry) writes:\n",
            ">In article <1993Apr22.031423.1@vaxc.stevens-tech.edu>\n",
            " u96_averba@vaxc.stevens-tech.edu writes:\n",
            "\n",
            ">>doctors said that he could die from it, and the medication caused\n",
            "\n",
            ">\tIs it that serious?  My EKG often comes back with a few irregular\n",
            ">beats.  Another question:  Is a low blood potassium level very bad?  My\n",
            ">doctor seems concerned, but she tends to worry too much in general.\n",
            "\n",
            "The term arrhythmia is usually used to encompass a wide range of abnormal\n",
            "heart rhythms (cardiac dysrhythmias).  Some of them are very serious\n",
            "while others are completely benign.  Having \"a few irregular beats\"\n",
            "on an EKG could be serious depending on what those beats were and\n",
            "when they occurred, or could be of no significance.\n",
            "\n",
            "Low blood potassium levels probably predispose people with underlying\n",
            "heart disease to develop arrhythmias.  Very low potassium levels are\n",
            "clearly dangerous, but it is not clear how much of a problem\n",
            "low-end-of-normal levels are:  a lot of cardiologists seem to treat\n",
            "anyone with even a mildly low-normal potassium level.\n",
            "\n",
            "-- \n",
            "David Rind\n",
            "rind@enterprise.bih.harvard.edu\n",
            "\n"
          ]
        }
      ]
    },
    {
      "cell_type": "markdown",
      "source": [
        "Can you guess which of the four topics this document belongs to?"
      ],
      "metadata": {
        "id": "guy78HL7BaWS"
      }
    },
    {
      "cell_type": "markdown",
      "source": [
        "## LDA Training"
      ],
      "metadata": {
        "id": "lBavg1_ebcez"
      }
    },
    {
      "cell_type": "markdown",
      "metadata": {
        "deletable": true,
        "editable": true,
        "id": "mD85LlKlveHp"
      },
      "source": [
        "Let's build out our LDA model and fit our training data. \n",
        "\n",
        "Note that we need to first preprocess our data using a CountVectorizor(). Then you can build an LDA model with 4 n_components and a random_state of 0. See if you can encapsulate this into a single pipeline (check out make_pipeline()).\n"
      ]
    },
    {
      "cell_type": "code",
      "metadata": {
        "id": "VIgSBVRMhi73",
        "colab": {
          "base_uri": "https://localhost:8080/"
        },
        "outputId": "6c539883-a48d-4bd5-ebdf-91c7c4dd9354"
      },
      "source": [
        "from sklearn.decomposition import LatentDirichletAllocation\n",
        "\n",
        "lda = make_pipeline(CountVectorizer(), LatentDirichletAllocation(n_components=4, random_state=0))\n",
        "lda.fit(train.data)"
      ],
      "execution_count": null,
      "outputs": [
        {
          "output_type": "execute_result",
          "data": {
            "text/plain": [
              "Pipeline(steps=[('countvectorizer', CountVectorizer()),\n",
              "                ('latentdirichletallocation',\n",
              "                 LatentDirichletAllocation(n_components=4, random_state=0))])"
            ]
          },
          "metadata": {},
          "execution_count": 5
        }
      ]
    },
    {
      "cell_type": "markdown",
      "source": [
        "Now, let's write a prediction function for our test data. We should run the data through the model to get out class probabilities for each datapoint, and then argmax those probabilities to get out a prediction. The transform() function might come in useful here."
      ],
      "metadata": {
        "id": "rxrNcEWZCIbv"
      }
    },
    {
      "cell_type": "code",
      "metadata": {
        "id": "A-RAqnlziKay"
      },
      "source": [
        "def lda_predict(data, model):\n",
        "  # TODO: Write a prediction function for LDA\n",
        "  transform = model.transform(data)\n",
        "  y_pred = np.argmax(transform, axis=1) # Get prediction using the maximum probability\n",
        "  return y_pred"
      ],
      "execution_count": null,
      "outputs": []
    },
    {
      "cell_type": "code",
      "metadata": {
        "id": "Y-75hxh-iY4c",
        "colab": {
          "base_uri": "https://localhost:8080/"
        },
        "outputId": "c48a49c4-55e1-418b-daba-209d0afd1e2c"
      },
      "source": [
        "y_pred = lda_predict(test.data, lda)\n",
        "print(y_pred)"
      ],
      "execution_count": null,
      "outputs": [
        {
          "output_type": "stream",
          "name": "stdout",
          "text": [
            "[2 3 3 ... 1 0 0]\n"
          ]
        }
      ]
    },
    {
      "cell_type": "markdown",
      "source": [
        "## 2.5.1 Confusion Matrix\n",
        "\n",
        "Build a confusion matrix for your predictions vs. actual labels and compute the accuracy for the matrix. Record both in your writeup."
      ],
      "metadata": {
        "id": "MyI8y9NUetaI"
      }
    },
    {
      "cell_type": "code",
      "metadata": {
        "id": "1p9THANdihDq",
        "colab": {
          "base_uri": "https://localhost:8080/",
          "height": 374
        },
        "outputId": "0f2aec66-36d5-4698-8e8c-d313e000b3e5"
      },
      "source": [
        "## TODO: Construct your confusion matrix here. \n",
        "mat = confusion_matrix(test.target, y_pred)\n",
        "sns.heatmap(mat.T, square=True, annot=True, fmt='d', cbar=False,\n",
        "            xticklabels=train.target_names, yticklabels=train.target_names)\n"
      ],
      "execution_count": null,
      "outputs": [
        {
          "output_type": "execute_result",
          "data": {
            "text/plain": [
              "<matplotlib.axes._subplots.AxesSubplot at 0x7f9b8fa3b7d0>"
            ]
          },
          "metadata": {},
          "execution_count": 8
        },
        {
          "output_type": "display_data",
          "data": {
            "text/plain": [
              "<Figure size 432x288 with 1 Axes>"
            ],
            "image/png": "[encoded data removed]"
          },
          "metadata": {
            "needs_background": "light"
          }
        }
      ]
    },
    {
      "cell_type": "code",
      "source": [
        "# TODO: Determine the accuracy of the confusion matrix here.\n",
        "acc = mat.diagonal().sum()/mat.sum()\n",
        "print(acc)\n"
      ],
      "metadata": {
        "id": "OSXalkD_BgkL",
        "colab": {
          "base_uri": "https://localhost:8080/"
        },
        "outputId": "2f77a5c8-8c51-448a-f7b6-ede9cf762268"
      },
      "execution_count": null,
      "outputs": [
        {
          "output_type": "stream",
          "name": "stdout",
          "text": [
            "0.5661103979460848\n"
          ]
        }
      ]
    },
    {
      "cell_type": "markdown",
      "metadata": {
        "id": "I5HaboZwvW4P"
      },
      "source": [
        "Beware that even though we specified 4 categories for the LDA model, we did NOT say which topic is which. However, looking at the confusion matrix, we see that the LDA model is able to distinguish the differences between the categories to a great extent.\n",
        "\n",
        "Describe any discrepancies and misclassification you see between the predicted topics and the actual topics. Give two possible factors that might diminish the performance of the LDA and briefly explain them. Record your response in the writeup.\n"
      ]
    },
    {
      "cell_type": "markdown",
      "source": [
        "## 2.5.2 Document-Topic Matrix\n",
        "\n",
        "Now that we have trained our LDA model, we can take a closer look at what the model affords us. One such useful piece of information we can get out of the model is a \"document-topic\" matrix, which tells us that given a document, what are the probabilities that document belongs in each class? We can access this through the transform() method as follows:"
      ],
      "metadata": {
        "id": "dmCJ26elki58"
      }
    },
    {
      "cell_type": "code",
      "source": [
        "from sklearn.linear_model import LogisticRegression\n",
        "from sklearn.metrics import f1_score"
      ],
      "metadata": {
        "id": "Fg0DyHianm6_"
      },
      "execution_count": null,
      "outputs": []
    },
    {
      "cell_type": "code",
      "source": [
        "lda.transform(train.data)"
      ],
      "metadata": {
        "id": "ZL145bftklfi",
        "colab": {
          "base_uri": "https://localhost:8080/"
        },
        "outputId": "dfe26189-b06c-4a7f-887b-51c90daf1355"
      },
      "execution_count": null,
      "outputs": [
        {
          "output_type": "execute_result",
          "data": {
            "text/plain": [
              "array([[0.27368128, 0.00120189, 0.72390835, 0.00120848],\n",
              "       [0.30555006, 0.00195677, 0.69051891, 0.00197427],\n",
              "       [0.08159284, 0.00113477, 0.72161358, 0.1956588 ],\n",
              "       ...,\n",
              "       [0.19640593, 0.00206544, 0.79942354, 0.00210509],\n",
              "       [0.00149275, 0.9491492 , 0.04786503, 0.00149302],\n",
              "       [0.09902997, 0.89481898, 0.00303892, 0.00311213]])"
            ]
          },
          "metadata": {},
          "execution_count": 11
        }
      ]
    },
    {
      "cell_type": "markdown",
      "source": [
        "Here, we ran the training data through the trained LDA, and what we get out for each document is a vector of length 4, where each element is the corresponding probability that that document belongs to that particular class. You can verify this yourself by adding the four probabilities up--they should sum to 1!"
      ],
      "metadata": {
        "id": "g37pGQcu9hHH"
      }
    },
    {
      "cell_type": "markdown",
      "source": [
        "Hmm...this looks awfully like a dataset, and numbers are a lot easier to work with than documents of words. Plus, we already know what the labels are:"
      ],
      "metadata": {
        "id": "4sxYadm29_Dr"
      }
    },
    {
      "cell_type": "code",
      "source": [
        "train.target"
      ],
      "metadata": {
        "id": "8eVXy0lS0w8T",
        "colab": {
          "base_uri": "https://localhost:8080/"
        },
        "outputId": "abb2ccc8-571a-4ab1-961e-62329495254a"
      },
      "execution_count": null,
      "outputs": [
        {
          "output_type": "execute_result",
          "data": {
            "text/plain": [
              "array([2, 2, 2, ..., 2, 1, 0])"
            ]
          },
          "metadata": {},
          "execution_count": 12
        }
      ]
    },
    {
      "cell_type": "markdown",
      "source": [
        "What if we use the LDA model to transform our document data into these probability vectors, and use this transformed data as an input to a classification model? In fact, something similar has actually been done before [here](https://towardsdatascience.com/unsupervised-nlp-topic-models-as-a-supervised-learning-input-cf8ee9e5cf28).\n",
        "\n",
        "Let's see if we can recreate a simplified version here, using multiclass logistic regression."
      ],
      "metadata": {
        "id": "ZJ34Z4Ib-Eq_"
      }
    },
    {
      "cell_type": "code",
      "source": [
        "logistic = LogisticRegression(multi_class = 'multinomial', solver = 'lbfgs', random_state=0)\n"
      ],
      "metadata": {
        "id": "uMz09y-bpKZE"
      },
      "execution_count": null,
      "outputs": []
    },
    {
      "cell_type": "code",
      "source": [
        "# TODO: Fit the logistic regressor on lda-transformed training data and labels\n",
        "\n",
        "logistic.fit(lda.transform(train.data),train.target)"
      ],
      "metadata": {
        "id": "ZhemnCQWpbn7",
        "colab": {
          "base_uri": "https://localhost:8080/"
        },
        "outputId": "aeeada55-0368-4f00-e88a-f5c0968364cb"
      },
      "execution_count": null,
      "outputs": [
        {
          "output_type": "execute_result",
          "data": {
            "text/plain": [
              "LogisticRegression(multi_class='multinomial', random_state=0)"
            ]
          },
          "metadata": {},
          "execution_count": 14
        }
      ]
    },
    {
      "cell_type": "markdown",
      "source": [
        "What are the coefficients and intercepts in this trained model?"
      ],
      "metadata": {
        "id": "295_XQrk-3jO"
      }
    },
    {
      "cell_type": "code",
      "source": [
        "# TODO: what are the computed intercepts?\n",
        "\n",
        "logistic_intercept = logistic.intercept_\n",
        "print(logistic_intercept)"
      ],
      "metadata": {
        "id": "WI9GvHnaplhA",
        "colab": {
          "base_uri": "https://localhost:8080/"
        },
        "outputId": "3ab30213-24a9-44a0-b548-a2c5432a38a4"
      },
      "execution_count": null,
      "outputs": [
        {
          "output_type": "stream",
          "name": "stdout",
          "text": [
            "[-0.67205662  0.37393217 -0.17023523  0.46835968]\n"
          ]
        }
      ]
    },
    {
      "cell_type": "code",
      "source": [
        "# TODO: what are the computed coefficients?\n",
        "\n",
        "coefficients = logistic.coef_\n",
        "print(coefficients)"
      ],
      "metadata": {
        "id": "FUbKVP1dpoDq",
        "colab": {
          "base_uri": "https://localhost:8080/"
        },
        "outputId": "855a24b9-4050-4cca-d619-6f1c1659d374"
      },
      "execution_count": null,
      "outputs": [
        {
          "output_type": "stream",
          "name": "stdout",
          "text": [
            "[[ 2.05034084  3.48910394 -0.48090578 -5.06047443]\n",
            " [-3.88900895  2.46901226 -0.8643668   2.28538379]\n",
            " [ 0.46985768 -1.66632609  2.10441663 -0.90809465]\n",
            " [ 1.36881043 -4.2917901  -0.75914405  3.68318529]]\n"
          ]
        }
      ]
    },
    {
      "cell_type": "markdown",
      "source": [
        "Now let's see if we can get out predictions. Multiply your coefficient matrix with your lda-transformed TEST data matrix and add your bias terms. Then, taking the argmax of each row should yield your predicted class for the test data."
      ],
      "metadata": {
        "id": "GksOD5D__CvQ"
      }
    },
    {
      "cell_type": "code",
      "source": [
        "# TODO: Make predictions on TEST data.\n",
        "prediction = np.add(lda.transform(test.data)@coefficients.T,logistic_intercept)\n",
        "y_prediction = np.argmax(prediction, axis=1)\n",
        "print(y_prediction)\n"
      ],
      "metadata": {
        "id": "1rSsrmUqsqWd",
        "colab": {
          "base_uri": "https://localhost:8080/"
        },
        "outputId": "aefd44f3-d9be-423c-e75e-a84776969f12"
      },
      "execution_count": null,
      "outputs": [
        {
          "output_type": "stream",
          "name": "stdout",
          "text": [
            "[2 3 3 ... 1 3 3]\n"
          ]
        }
      ]
    },
    {
      "cell_type": "markdown",
      "source": [
        "Compute the confusion matrix and *weighted* F1 score and include them in the writeup."
      ],
      "metadata": {
        "id": "gi1Zq-x7_khb"
      }
    },
    {
      "cell_type": "code",
      "source": [
        "## TODO: Construct your confusion matrix here. \n",
        "matrix = confusion_matrix(test.target, y_prediction)\n",
        "sns.heatmap(matrix.T, square=True, annot=True, fmt='d', cbar=False, cmap = 'crest',\n",
        "            xticklabels=train.target_names, yticklabels=train.target_names)\n",
        "plt.xlabel('true label')\n",
        "plt.ylabel('predicted label');\n",
        "\n",
        "f1score = f1_score(test.target, y_prediction,average='weighted')\n",
        "print(f1score)\n"
      ],
      "metadata": {
        "id": "terVnCbFts7X",
        "colab": {
          "base_uri": "https://localhost:8080/",
          "height": 388
        },
        "outputId": "f1ee87d8-d43f-43bc-f48e-98d63e72d80a"
      },
      "execution_count": null,
      "outputs": [
        {
          "output_type": "stream",
          "name": "stdout",
          "text": [
            "0.7780489588050767\n"
          ]
        },
        {
          "output_type": "display_data",
          "data": {
            "text/plain": [
              "<Figure size 432x288 with 1 Axes>"
            ],
            "image/png": "[encoded data removed]"
          },
          "metadata": {
            "needs_background": "light"
          }
        }
      ]
    },
    {
      "cell_type": "markdown",
      "source": [
        "Do your results align with what you would expect? Why or why not? Record your thoughts in the writeup."
      ],
      "metadata": {
        "id": "KP_00IOn_0Cn"
      }
    },
    {
      "cell_type": "markdown",
      "source": [
        "## 2.5.3 Topic-Term Matrix\n",
        "\n",
        "The other piece of information we can extract from our trained LDA model is a topic-term matrix. You can do so by making a call to the .components_ attribute on your LDA model:"
      ],
      "metadata": {
        "id": "CM5bc-F1kl2X"
      }
    },
    {
      "cell_type": "code",
      "source": [
        "lda[1].components_\n",
        "print(lda[1].components_)\n",
        "print(np.array(lda[1].components_).shape)\n",
        "print(np.array(train.data).shape)"
      ],
      "metadata": {
        "id": "ly4fX5LiknZh",
        "colab": {
          "base_uri": "https://localhost:8080/"
        },
        "outputId": "930bc719-1065-42d4-c2d4-c3a6cfa21ee4"
      },
      "execution_count": null,
      "outputs": [
        {
          "output_type": "stream",
          "name": "stdout",
          "text": [
            "[[ 64.14361922 100.63665876   2.22163244 ...   0.28775286   0.26109064\n",
            "    0.2500038 ]\n",
            " [219.28544255  58.52523881   0.25016452 ...   0.25441101   1.23635215\n",
            "    2.07778532]\n",
            " [ 22.1120397   28.65062333   0.25000076 ...   1.20782949   0.25255392\n",
            "    0.41132378]\n",
            " [  3.45889853 143.1874791    0.27820228 ...   0.25000664   0.25000328\n",
            "    0.2608871 ]]\n",
            "(4, 38113)\n",
            "(2339,)\n"
          ]
        }
      ]
    },
    {
      "cell_type": "markdown",
      "source": [
        "Look closely at this matrix. What does the topic-term matrix tell us? Record your thoughts in your homework writeup.\n",
        "\n",
        "Hint: Check out the dimensionality of the matrix."
      ],
      "metadata": {
        "id": "7MudCRc1AmbF"
      }
    },
    {
      "cell_type": "markdown",
      "source": [
        "## 2.5.4 Visualizing each Topic\n",
        "\n",
        "Now, your task is to print out the 10 most common or influential words that the model has learned for each of the four topics.\n",
        "\n",
        "*Hint: You will need to first find the indices of the 10 highest values for each topic: argsort() could be useful here. Then use the provided vocabulary to extract out those selected terms.*"
      ],
      "metadata": {
        "id": "lGLqJuCQTHrQ"
      }
    },
    {
      "cell_type": "code",
      "source": [
        "from numpy.ma.core import argsort\n",
        "vectorizer = CountVectorizer()\n",
        "X = vectorizer.fit_transform(train.data)\n",
        "vocab = vectorizer.get_feature_names()\n",
        "\n",
        "topic_words = {}\n",
        "\n",
        "for topic, comp in enumerate(lda[1].components_):\n",
        "  # TODO: Complete this section.\n",
        "  word_idx = argsort(comp)[::-1]\n",
        "  topic_words[topic] = [ vocab[i] for i in word_idx[:10] ]\n",
        "\n",
        "for topic, words in topic_words.items():\n",
        "  print('Topic: %d' % topic)\n",
        "  print('  %s' % ', '.join(words))"
      ],
      "metadata": {
        "id": "ZX8qdk0bA7oD",
        "colab": {
          "base_uri": "https://localhost:8080/"
        },
        "outputId": "49cd3105-fe2a-4354-d32c-aa4433c237aa"
      },
      "execution_count": null,
      "outputs": [
        {
          "output_type": "stream",
          "name": "stdout",
          "text": [
            "Topic: 0\n",
            "  the, of, to, and, in, is, that, for, it, you\n",
            "Topic: 1\n",
            "  the, edu, to, in, for, and, of, from, subject, lines\n",
            "Topic: 2\n",
            "  the, of, to, is, in, and, that, it, edu, this\n",
            "Topic: 3\n",
            "  the, and, of, to, in, that, was, they, he, it\n"
          ]
        },
        {
          "output_type": "stream",
          "name": "stderr",
          "text": [
            "/usr/local/lib/python3.7/dist-packages/sklearn/utils/deprecation.py:87: FutureWarning: Function get_feature_names is deprecated; get_feature_names is deprecated in 1.0 and will be removed in 1.2. Please use get_feature_names_out instead.\n",
            "  warnings.warn(msg, category=FutureWarning)\n"
          ]
        }
      ]
    },
    {
      "cell_type": "markdown",
      "source": [
        "Do these words make sense for their corresponding topics? Do you see any limitations? Briefly explain and record your thoughts in the writeup."
      ],
      "metadata": {
        "id": "lrMBIMqXRaGQ"
      }
    }
  ]
}
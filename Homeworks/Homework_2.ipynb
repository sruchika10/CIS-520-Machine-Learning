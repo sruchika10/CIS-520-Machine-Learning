{
  "nbformat": 4,
  "nbformat_minor": 0,
  "metadata": {
    "kernelspec": {
      "display_name": "Python 3",
      "language": "python",
      "name": "python3"
    },
    "language_info": {
      "codemirror_mode": {
        "name": "ipython",
        "version": 3
      },
      "file_extension": ".py",
      "mimetype": "text/x-python",
      "name": "python",
      "nbconvert_exporter": "python",
      "pygments_lexer": "ipython3",
      "version": "3.5.1+"
    },
    "colab": {
      "provenance": [],
      "collapsed_sections": []
    }
  },
  "cells": [
    {
      "cell_type": "markdown",
      "metadata": {
        "id": "esB_IsP6tXlJ"
      },
      "source": [
        "# Homework 2: Coding\n",
        "\n",
        "**Due Tuesday September 27th, 11:59pm.**\n",
        "\n",
        "**This assignment can be done individually or in groups of two.**\n",
        "\n",
        "**To submit the coding portion of hw2, provide both hw2.ipynb and hw2.py on Gradescope (One submission per group and don't forget to add your partner's name). Be sure to modify the restriction before sharing.**\n",
        "\n",
        "**Feel free to modify anything in this notebook unless notified.**"
      ]
    },
    {
      "cell_type": "markdown",
      "metadata": {
        "id": "k7A8_5bKoB06"
      },
      "source": [
        "### Imports and Data"
      ]
    },
    {
      "cell_type": "code",
      "metadata": {
        "id": "NexR8Vb2oB0-"
      },
      "source": [
        "\"\"\"\n",
        "Import required libraries.\n",
        "You should not import any other packages without explicit permission.\n",
        "\"\"\"\n",
        "import numpy as np\n",
        "import pandas as pd\n",
        "import time\n",
        "import matplotlib.pyplot as plt"
      ],
      "execution_count": 1,
      "outputs": []
    },
    {
      "cell_type": "code",
      "metadata": {
        "id": "1zjWYTWxb1N0",
        "colab": {
          "base_uri": "https://localhost:8080/",
          "height": 645
        },
        "outputId": "2f59cffb-927f-43fb-82bb-b1a2387ec26f"
      },
      "source": [
        "\"\"\"\n",
        "Run the following code to upload and unzip the data into the Colab environment.\n",
        "\"\"\"\n",
        "from google.colab import files\n",
        "uploaded = files.upload()\n",
        "!unzip hw2_data.zip"
      ],
      "execution_count": 2,
      "outputs": [
        {
          "output_type": "display_data",
          "data": {
            "text/plain": [
              "<IPython.core.display.HTML object>"
            ],
            "text/html": [
              "\n",
              "     <input type=\"file\" id=\"files-d92ebed5-42a6-4c7d-aab3-e9428d8885fe\" name=\"files[]\" multiple disabled\n",
              "        style=\"border:none\" />\n",
              "     <output id=\"result-d92ebed5-42a6-4c7d-aab3-e9428d8885fe\">\n",
              "      Upload widget is only available when the cell has been executed in the\n",
              "      current browser session. Please rerun this cell to enable.\n",
              "      </output>\n",
              "      <script>// Copyright 2017 Google LLC\n",
              "//\n",
              "// Licensed under the Apache License, Version 2.0 (the \"License\");\n",
              "// you may not use this file except in compliance with the License.\n",
              "// You may obtain a copy of the License at\n",
              "//\n",
              "//      http://www.apache.org/licenses/LICENSE-2.0\n",
              "//\n",
              "// Unless required by applicable law or agreed to in writing, software\n",
              "// distributed under the License is distributed on an \"AS IS\" BASIS,\n",
              "// WITHOUT WARRANTIES OR CONDITIONS OF ANY KIND, either express or implied.\n",
              "// See the License for the specific language governing permissions and\n",
              "// limitations under the License.\n",
              "\n",
              "/**\n",
              " * @fileoverview Helpers for google.colab Python module.\n",
              " */\n",
              "(function(scope) {\n",
              "function span(text, styleAttributes = {}) {\n",
              "  const element = document.createElement('span');\n",
              "  element.textContent = text;\n",
              "  for (const key of Object.keys(styleAttributes)) {\n",
              "    element.style[key] = styleAttributes[key];\n",
              "  }\n",
              "  return element;\n",
              "}\n",
              "\n",
              "// Max number of bytes which will be uploaded at a time.\n",
              "const MAX_PAYLOAD_SIZE = 100 * 1024;\n",
              "\n",
              "function _uploadFiles(inputId, outputId) {\n",
              "  const steps = uploadFilesStep(inputId, outputId);\n",
              "  const outputElement = document.getElementById(outputId);\n",
              "  // Cache steps on the outputElement to make it available for the next call\n",
              "  // to uploadFilesContinue from Python.\n",
              "  outputElement.steps = steps;\n",
              "\n",
              "  return _uploadFilesContinue(outputId);\n",
              "}\n",
              "\n",
              "// This is roughly an async generator (not supported in the browser yet),\n",
              "// where there are multiple asynchronous steps and the Python side is going\n",
              "// to poll for completion of each step.\n",
              "// This uses a Promise to block the python side on completion of each step,\n",
              "// then passes the result of the previous step as the input to the next step.\n",
              "function _uploadFilesContinue(outputId) {\n",
              "  const outputElement = document.getElementById(outputId);\n",
              "  const steps = outputElement.steps;\n",
              "\n",
              "  const next = steps.next(outputElement.lastPromiseValue);\n",
              "  return Promise.resolve(next.value.promise).then((value) => {\n",
              "    // Cache the last promise value to make it available to the next\n",
              "    // step of the generator.\n",
              "    outputElement.lastPromiseValue = value;\n",
              "    return next.value.response;\n",
              "  });\n",
              "}\n",
              "\n",
              "/**\n",
              " * Generator function which is called between each async step of the upload\n",
              " * process.\n",
              " * @param {string} inputId Element ID of the input file picker element.\n",
              " * @param {string} outputId Element ID of the output display.\n",
              " * @return {!Iterable<!Object>} Iterable of next steps.\n",
              " */\n",
              "function* uploadFilesStep(inputId, outputId) {\n",
              "  const inputElement = document.getElementById(inputId);\n",
              "  inputElement.disabled = false;\n",
              "\n",
              "  const outputElement = document.getElementById(outputId);\n",
              "  outputElement.innerHTML = '';\n",
              "\n",
              "  const pickedPromise = new Promise((resolve) => {\n",
              "    inputElement.addEventListener('change', (e) => {\n",
              "      resolve(e.target.files);\n",
              "    });\n",
              "  });\n",
              "\n",
              "  const cancel = document.createElement('button');\n",
              "  inputElement.parentElement.appendChild(cancel);\n",
              "  cancel.textContent = 'Cancel upload';\n",
              "  const cancelPromise = new Promise((resolve) => {\n",
              "    cancel.onclick = () => {\n",
              "      resolve(null);\n",
              "    };\n",
              "  });\n",
              "\n",
              "  // Wait for the user to pick the files.\n",
              "  const files = yield {\n",
              "    promise: Promise.race([pickedPromise, cancelPromise]),\n",
              "    response: {\n",
              "      action: 'starting',\n",
              "    }\n",
              "  };\n",
              "\n",
              "  cancel.remove();\n",
              "\n",
              "  // Disable the input element since further picks are not allowed.\n",
              "  inputElement.disabled = true;\n",
              "\n",
              "  if (!files) {\n",
              "    return {\n",
              "      response: {\n",
              "        action: 'complete',\n",
              "      }\n",
              "    };\n",
              "  }\n",
              "\n",
              "  for (const file of files) {\n",
              "    const li = document.createElement('li');\n",
              "    li.append(span(file.name, {fontWeight: 'bold'}));\n",
              "    li.append(span(\n",
              "        `(${file.type || 'n/a'}) - ${file.size} bytes, ` +\n",
              "        `last modified: ${\n",
              "            file.lastModifiedDate ? file.lastModifiedDate.toLocaleDateString() :\n",
              "                                    'n/a'} - `));\n",
              "    const percent = span('0% done');\n",
              "    li.appendChild(percent);\n",
              "\n",
              "    outputElement.appendChild(li);\n",
              "\n",
              "    const fileDataPromise = new Promise((resolve) => {\n",
              "      const reader = new FileReader();\n",
              "      reader.onload = (e) => {\n",
              "        resolve(e.target.result);\n",
              "      };\n",
              "      reader.readAsArrayBuffer(file);\n",
              "    });\n",
              "    // Wait for the data to be ready.\n",
              "    let fileData = yield {\n",
              "      promise: fileDataPromise,\n",
              "      response: {\n",
              "        action: 'continue',\n",
              "      }\n",
              "    };\n",
              "\n",
              "    // Use a chunked sending to avoid message size limits. See b/62115660.\n",
              "    let position = 0;\n",
              "    do {\n",
              "      const length = Math.min(fileData.byteLength - position, MAX_PAYLOAD_SIZE);\n",
              "      const chunk = new Uint8Array(fileData, position, length);\n",
              "      position += length;\n",
              "\n",
              "      const base64 = btoa(String.fromCharCode.apply(null, chunk));\n",
              "      yield {\n",
              "        response: {\n",
              "          action: 'append',\n",
              "          file: file.name,\n",
              "          data: base64,\n",
              "        },\n",
              "      };\n",
              "\n",
              "      let percentDone = fileData.byteLength === 0 ?\n",
              "          100 :\n",
              "          Math.round((position / fileData.byteLength) * 100);\n",
              "      percent.textContent = `${percentDone}% done`;\n",
              "\n",
              "    } while (position < fileData.byteLength);\n",
              "  }\n",
              "\n",
              "  // All done.\n",
              "  yield {\n",
              "    response: {\n",
              "      action: 'complete',\n",
              "    }\n",
              "  };\n",
              "}\n",
              "\n",
              "scope.google = scope.google || {};\n",
              "scope.google.colab = scope.google.colab || {};\n",
              "scope.google.colab._files = {\n",
              "  _uploadFiles,\n",
              "  _uploadFilesContinue,\n",
              "};\n",
              "})(self);\n",
              "</script> "
            ]
          },
          "metadata": {}
        },
        {
          "output_type": "stream",
          "name": "stdout",
          "text": [
            "Saving hw2_data.zip to hw2_data.zip\n",
            "Archive:  hw2_data.zip\n",
            "   creating: hw2_data/\n",
            "  inflating: hw2_data/.DS_Store      \n",
            "   creating: __MACOSX/\n",
            "   creating: __MACOSX/hw2_data/\n",
            "  inflating: __MACOSX/hw2_data/._.DS_Store  \n",
            "   creating: hw2_data/Data_set_2/\n",
            "  inflating: hw2_data/Data_set_2/y_train_5.txt  \n",
            "   creating: __MACOSX/hw2_data/Data_set_2/\n",
            "  inflating: __MACOSX/hw2_data/Data_set_2/._y_train_5.txt  \n",
            "  inflating: hw2_data/Data_set_2/.DS_Store  \n",
            "  inflating: __MACOSX/hw2_data/Data_set_2/._.DS_Store  \n",
            "  inflating: hw2_data/Data_set_2/y_train_100.txt  \n",
            "  inflating: __MACOSX/hw2_data/Data_set_2/._y_train_100.txt  \n",
            "  inflating: hw2_data/Data_set_2/X_test.txt  \n",
            "  inflating: __MACOSX/hw2_data/Data_set_2/._X_test.txt  \n",
            "  inflating: hw2_data/Data_set_2/y_test.txt  \n",
            "  inflating: __MACOSX/hw2_data/Data_set_2/._y_test.txt  \n",
            "  inflating: hw2_data/Data_set_2/X_train_100.txt  \n",
            "  inflating: __MACOSX/hw2_data/Data_set_2/._X_train_100.txt  \n",
            "  inflating: hw2_data/Data_set_2/X_train_5.txt  \n",
            "  inflating: __MACOSX/hw2_data/Data_set_2/._X_train_5.txt  \n",
            "   creating: hw2_data/Data_set_1/\n",
            "  inflating: hw2_data/Data_set_1/x_train.txt  \n",
            "   creating: __MACOSX/hw2_data/Data_set_1/\n",
            "  inflating: __MACOSX/hw2_data/Data_set_1/._x_train.txt  \n",
            "  inflating: hw2_data/Data_set_1/y_train.txt  \n",
            "  inflating: __MACOSX/hw2_data/Data_set_1/._y_train.txt  \n",
            "  inflating: hw2_data/Data_set_1/x_test.txt  \n",
            "  inflating: __MACOSX/hw2_data/Data_set_1/._x_test.txt  \n",
            "  inflating: hw2_data/Data_set_1/y_test.txt  \n",
            "  inflating: __MACOSX/hw2_data/Data_set_1/._y_test.txt  \n"
          ]
        }
      ]
    },
    {
      "cell_type": "markdown",
      "metadata": {
        "id": "2weGbLJ2txVd"
      },
      "source": [
        "## Q3: Least Squares Regression (40 points)\n",
        "\n",
        "Implement the following functions for question 3. Please **do not** use the sklearn implementation of linear regression or other imports beyond those listed above."
      ]
    },
    {
      "cell_type": "markdown",
      "metadata": {
        "id": "QtdNRriWeBOW"
      },
      "source": [
        "### Q3.1: Implementing Linear Regression (11 points)"
      ]
    },
    {
      "cell_type": "markdown",
      "metadata": {
        "id": "r4LiXAOQoB1J"
      },
      "source": [
        "#### L1 and L2 error (2 points + 2 points)"
      ]
    },
    {
      "cell_type": "code",
      "metadata": {
        "id": "Z0v0785ioB1M"
      },
      "source": [
        "def L1_error(y, y_hat):\n",
        "    \"\"\"\n",
        "    L1 error loss\n",
        "    \n",
        "    Args:\n",
        "    y ((n,1) np.array): actual labels\n",
        "    y_hat ((n,1) np.array): estimated labels\n",
        "    \n",
        "    Returns:\n",
        "        float: L1 error\n",
        "    \"\"\"\n",
        "    # <---- Your code starts here ---->\n",
        "    L1_error_ = np.sum(np.absolute(y - y_hat))/y.shape[0]\n",
        "    # <---- Your code ends here ---->\n",
        "    \n",
        "    return L1_error_\n",
        "    \n",
        "    \n",
        "    \n",
        "def L2_error(y, y_hat):\n",
        "    \"\"\"\n",
        "    L2 error loss\n",
        "    \n",
        "    Args:\n",
        "    y ((n,1) np.array): actual labels\n",
        "    y_hat ((n,1) np.array): estimated labels\n",
        "    \n",
        "    Returns:\n",
        "        float: L2 error\n",
        "    \"\"\"\n",
        "    # <---- Your code starts here ---->\n",
        "    L2_error_ = np.sum((y-y_hat)**2)/y.shape[0]\n",
        "    # <---- Your code ends here ---->\n",
        "\n",
        "    return L2_error_"
      ],
      "execution_count": 27,
      "outputs": []
    },
    {
      "cell_type": "markdown",
      "metadata": {
        "id": "asQPLD_HoB1T"
      },
      "source": [
        "#### Least Square Regression (3 points)"
      ]
    },
    {
      "cell_type": "code",
      "metadata": {
        "id": "JVMYIbQGoB1W"
      },
      "source": [
        "def LinearRegression(train_data, train_labels):\n",
        "    \"\"\"\n",
        "    Runs OLS on the given data.\n",
        "    \n",
        "    Args:\n",
        "        train_data ((n,p) np.array): n is the number of training points and p the number of features\n",
        "        train_labels ((n,1) np.array): training labels for the training data    \n",
        "    \n",
        "    Returns\n",
        "        tuple: (w, b) where w is a (p,1) weight vector, and b the bias term     \n",
        "    \"\"\"\n",
        "    # <---- Your code starts here ---->\n",
        "    # Equation: (X^T*X)^-1 * X^T*y\n",
        "    #print(train_data)\n",
        "    X = np.vstack([train_data.T, np.ones(len(train_data))]).T \n",
        "    #print(X)\n",
        "    w = np.matmul(np.linalg.inv(np.matmul(X.T, X)), np.matmul(X.T, train_labels))\n",
        "    #print(w)\n",
        "\n",
        "    w, b = w[:-1], w[-1]\n",
        "    # <---- Your code ends here ---->\n",
        "    \n",
        "    return (w, b)"
      ],
      "execution_count": 26,
      "outputs": []
    },
    {
      "cell_type": "markdown",
      "metadata": {
        "id": "2-MIQRMFoB1j"
      },
      "source": [
        "#### Ridge Regression (4 points)"
      ]
    },
    {
      "cell_type": "code",
      "metadata": {
        "id": "8twOpQynoB1m"
      },
      "source": [
        "def LinearRegressionL2(train_data, train_labels, lambda_):\n",
        "    \"\"\"\n",
        "    Runs linear regression with L2 regularization (ridge) on the given data.\n",
        "    \n",
        "    Args:\n",
        "        train_data ((n,p) np.array): n is the number of training points and p the number of features\n",
        "        train_labels ((n,1) np.array): training labels for the training data    \n",
        "        lambda_ (float): scalar weighting the L2 penalty\n",
        "\n",
        "    Returns\n",
        "        tuple: (w, b) where w is a (p,1) weight vector, and b the bias term  \n",
        "    \"\"\"\n",
        "    # <---- Your code starts here ---->\n",
        "    # \n",
        "    X = np.vstack([train_data.T, np.ones(len(train_data))]).T \n",
        "    # (X^T*X+lambda)^-1*X^T*y\n",
        "    calculation = np.matmul(np.linalg.inv(np.add(np.matmul(X.T, X), lambda_ * np.identity(train_data.shape[1]+1))), np.matmul(X.T, train_labels))\n",
        "    w, b = calculation[:-1], calculation[-1]\n",
        "    # <---- Your code ends here ---->\n",
        "    \n",
        "    return (w, b)"
      ],
      "execution_count": 44,
      "outputs": []
    },
    {
      "cell_type": "markdown",
      "metadata": {
        "id": "wb5CmFknGZXk"
      },
      "source": [
        "### Q3.2: Data Set 1 (synthetic 1-dimensional data) (8 points)"
      ]
    },
    {
      "cell_type": "code",
      "metadata": {
        "id": "lUW8goIOslI4"
      },
      "source": [
        "X_train = pd.read_csv('/content/hw2_data/Data_set_1/x_train.txt', header=None).values\n",
        "y_train = pd.read_csv('/content/hw2_data/Data_set_1/y_train.txt', header=None).values\n",
        "X_test = pd.read_csv('/content/hw2_data/Data_set_1/x_test.txt', header=None).values\n",
        "y_test = pd.read_csv('/content/hw2_data/Data_set_1/y_test.txt', header=None).values"
      ],
      "execution_count": 29,
      "outputs": []
    },
    {
      "cell_type": "markdown",
      "metadata": {
        "id": "cOv6gZT-oB10"
      },
      "source": [
        "#### Q3.2.1: Learning Curve (4 points)\n",
        "\n",
        "Use your implementation of unregularized least squares regression to learn a regression model from first 10$\\%$ of the training data, then 20$\\%$ of the training data, then 30$\\%$ and so on up to 100$\\%$. In each case, measure both the $L_1$ and $L_2$ error on the training examples used, as well as the error on the given test set. Plot a curve showing both errors (on the *y-axis*) as a function of the number of training examples used (on the *x-axis*).\n",
        "\n",
        "Add the resulting curve to your Latex document."
      ]
    },
    {
      "cell_type": "code",
      "metadata": {
        "id": "3gGq3BStoB12",
        "colab": {
          "base_uri": "https://localhost:8080/",
          "height": 333
        },
        "outputId": "d1640a67-be6d-4517-8c54-5c7fc3d7dcf7"
      },
      "source": [
        "L1_train_errors = [0] * 10\n",
        "L2_train_errors = [0] * 10\n",
        "L1_test_errors = [0] * 10\n",
        "L2_test_errors = [0] * 10\n",
        "\n",
        "# <---- Your code starts here ---->\n",
        "#print(w)\n",
        "# y_hat = w*x+b\n",
        "list_ind = 0\n",
        "for i in range(10, 101, 10):\n",
        "  sample_train = int((len(X_train)*i)/100)\n",
        "  sample_test = int((len(X_test)*i)/100)\n",
        "\n",
        "  #print(\"sample train: \" + str(sample_train))\n",
        "  #print(\"sample test: \" + str(sample_test))\n",
        "  X_train_2 = X_train[0:sample_train]\n",
        "  y_train_2 = y_train[0:sample_train]\n",
        "  X_test_2 = X_test[0:sample_test]\n",
        "  y_test_2 = y_test[0:sample_test]\n",
        "  (w, b) = LinearRegression(X_train_2, y_train_2)\n",
        "  y_hat_train =  np.matmul(X_train_2, w) + b\n",
        "  y_hat_test = np.matmul(X_test_2,w)+b\n",
        "  L1_train_errors[list_ind] = L1_error(y_train_2, y_hat_train)\n",
        "  L1_test_errors[list_ind] = L1_error(y_test_2, y_hat_test)\n",
        "  L2_train_errors[list_ind] = L2_error(y_train_2, y_hat_train)\n",
        "  L2_test_errors[list_ind] = L2_error(y_test_2, y_hat_test)\n",
        "  list_ind+=1\n",
        "\n",
        "# <---- Your code ends here ---->\n",
        "\n",
        "print(L1_train_errors)\n",
        "plt.plot(range(10), L1_train_errors, label ='L1_train')\n",
        "plt.plot(range(10), L1_test_errors, label ='L1_test')\n",
        "plt.plot(range(10), L2_train_errors, label = 'L2_train')\n",
        "plt.plot(range(10), L2_test_errors, label = 'L2_test')\n",
        "plt.legend(bbox_to_anchor=(1.05, 1), loc='upper left', borderaxespad=0.)\n",
        "plt.title(\"Learning Curve\")\n",
        "plt.xlabel(\"Percent of Training Data\")\n",
        "plt.xticks(range(10), range(10,101,10))\n",
        "plt.ylabel(\"Error\")\n",
        "plt.show()"
      ],
      "execution_count": 30,
      "outputs": [
        {
          "output_type": "stream",
          "name": "stdout",
          "text": [
            "[0.39915140543876837, 0.45303052226932106, 0.4181474734632731, 0.433420742391033, 0.4709764194360983, 0.46890988870429295, 0.47645005912351196, 0.4680679359179113, 0.48964563703197794, 0.495327912959659]\n"
          ]
        },
        {
          "output_type": "display_data",
          "data": {
            "text/plain": [
              "<Figure size 432x288 with 1 Axes>"
            ],
            "image/png": "[encoded data removed]"
          },
          "metadata": {
            "needs_background": "light"
          }
        }
      ]
    },
    {
      "cell_type": "markdown",
      "metadata": {
        "id": "giK5b9ukoB1_"
      },
      "source": [
        "#### Q3.2.2: Analysis of model learned from full training data (4 points)\n",
        "\n",
        "Write down the weight and bias terms, $\\hat{w}$ and $\\hat{b}$, learned from the full training data in your Latex document. Also, write down the $L_2$ training and test error of this model. In a single figure, draw a plot of the learned linear function (input instance on the *x-axis* and the predicted value on the *y-axis*), along with a scatter plot depicting the true label associated with each test instance.\n",
        "\n",
        "Add the resulting plot to your Latex document."
      ]
    },
    {
      "cell_type": "code",
      "metadata": {
        "id": "xvVwctBdoB2B",
        "colab": {
          "base_uri": "https://localhost:8080/",
          "height": 352
        },
        "outputId": "6d4ca4d3-2982-41cc-a1eb-1325d293d537"
      },
      "source": [
        "# <---- Your code starts here ---->\n",
        "(w, b) = LinearRegression(X_train, y_train)\n",
        "y_hat_train = np.matmul(X_train, w) + b\n",
        "y_hat_test = np.matmul(X_test, w) + b\n",
        "print(\"w: \" + str(w))\n",
        "print(\"b: \" + str(b))\n",
        "l2_train_error = L2_error(y_train, y_hat_train)\n",
        "l2_test_error = L2_error(y_test, y_hat_test)\n",
        "print(\"L2 Training Error: \" + str(l2_train_error))\n",
        "print(\"L2 Testing Error: \" + str(l2_test_error))\n",
        " \n",
        "\n",
        "# <---- Your code ends here ---->\n",
        "\n",
        "x = np.linspace(-1, 1)\n",
        "plt.plot(x,(x * w + b).T, color='red')\n",
        "plt.scatter(X_test, y_test, s=10)\n",
        "plt.title('Model from Full Training Data')\n",
        "plt.show()"
      ],
      "execution_count": 31,
      "outputs": [
        {
          "output_type": "stream",
          "name": "stdout",
          "text": [
            "w: [[0.90222293]]\n",
            "b: [0.03269314]\n",
            "L2 Training Error: 0.3679586735242827\n",
            "L2 Testing Error: 0.4277923877510294\n"
          ]
        },
        {
          "output_type": "display_data",
          "data": {
            "text/plain": [
              "<Figure size 432x288 with 1 Axes>"
            ],
            "image/png": "[encoded data removed]"
          },
          "metadata": {
            "needs_background": "light"
          }
        }
      ]
    },
    {
      "cell_type": "markdown",
      "metadata": {
        "id": "Da9OzOtuVCHZ"
      },
      "source": [
        "### Q3.3: Data Set 2 (real 12-dimensional data) (21 points)"
      ]
    },
    {
      "cell_type": "markdown",
      "metadata": {
        "id": "P20rbONVoB2P"
      },
      "source": [
        "#### Q3.3.1-3.3.2: Regression on different portions of training data (6 points + 6 points)\n",
        "\n",
        "#### Regression on 5$\\%$ of the training data. \n",
        "Use your implementation of $L_2$-regularized least squares regression to learn a model on 5$\\%$ of the training data. Select the regularization parameter from the range $\\{$0.01,0.02,0.05,0.1,0.2,0.5,1,2,5,10,20,50,100,200,500,1000,2000,5000$\\}$ using 5-fold cross validation on the relevant training data. Draw a plot showing $\\lambda$ on the *x-axis* and the training, test, and cross validation errors on the *y-axis* using the $L_2$ error. \n",
        "\n",
        "Then record the chosen value of $\\lambda$ along with the weight vector, bias term, and all corresponding errors for the chosen value of $\\lambda$.\n",
        "        \n",
        "#### Regression on 100$\\%$ of the training data.\n",
        "\n",
        "Repeat the above process, but instead learn from the full training data for $L_2$-regularized regression. Plot all of the errors, and record the chosen value of $\\lambda$ along with the weight vector, bias term, and all corresponding errors for the chosen value of $\\lambda$.\n",
        "\n",
        "Add the resulting curves to your Latex document."
      ]
    },
    {
      "cell_type": "code",
      "metadata": {
        "id": "ssEm895ToB2T",
        "colab": {
          "base_uri": "https://localhost:8080/",
          "height": 1000
        },
        "outputId": "381d3620-6aea-4ac0-8f40-2560d97a868f"
      },
      "source": [
        "from numpy.lib.function_base import trapz\n",
        "for percent in [5, 100]:\n",
        "#for percent in [5]:\n",
        "    train_error = []\n",
        "    cv_error = []\n",
        "    test_error = []\n",
        "    lambdas = [0.01,0.02,0.05,0.1,0.2,0.5,1,2,5,10,20,50,100,200,500,1000,2000,5000]\n",
        "    \n",
        "    X_test = pd.read_csv('/content/hw2_data/Data_set_2/X_test.txt', header=None).values\n",
        "    y_test = pd.read_csv('/content/hw2_data/Data_set_2/y_test.txt', header=None).values\n",
        "    X_train = pd.read_csv('/content/hw2_data/Data_set_2/X_train_'+str(percent)+'.txt', header=None).values\n",
        "    y_train = pd.read_csv('/content/hw2_data/Data_set_2/y_train_'+str(percent)+'.txt', header=None).values\n",
        "\n",
        "    # create folds\n",
        "    n = len(X_train)\n",
        "    #print(n)\n",
        "    fold_lengths = n/5\n",
        "    folds_X = []\n",
        "    folds_y = []\n",
        "    start_ind = 0\n",
        "    end_ind = int(fold_lengths)\n",
        "    for i in range(5):\n",
        "      fold_x = X_train[int(start_ind):int(end_ind)]\n",
        "      fold_y = y_train[int(start_ind):int(end_ind)]\n",
        "      start_ind = end_ind\n",
        "      end_ind = end_ind + fold_lengths\n",
        "      folds_X.append(np.array(fold_x))\n",
        "      folds_y.append(np.array(fold_y))\n",
        "    \n",
        "    cv_xsets_train = []\n",
        "    cv_ysets_train = []\n",
        "    cv_xsets_val = []\n",
        "    cv_ysets_val = []\n",
        "\n",
        "    for i in range(5):\n",
        "      train_data_X = np.zeros((8, 12))\n",
        "      train_data_y = np.zeros((8, 1))\n",
        "      val_x = folds_X[i]\n",
        "      val_y = folds_y[i]\n",
        "      cv_xsets_val.append(val_x)\n",
        "      cv_ysets_val.append(val_y)\n",
        "      for j in range(5):\n",
        "        if i != j:\n",
        "          train_data_X = np.vstack((train_data_X, folds_X[j]))\n",
        "          train_data_y = np.vstack((train_data_y,  folds_y[j]))\n",
        "        \n",
        "      cv_xsets_train.append(train_data_X[8:len(train_data_X)])\n",
        "      cv_ysets_train.append(train_data_y[8:len(train_data_y)])\n",
        "\n",
        "\n",
        "\n",
        "    #print()\n",
        "    # <---- Your code starts here ---->\n",
        "    for lambda_ in lambdas:\n",
        "      (w,b) = LinearRegressionL2(X_train, y_train, lambda_)\n",
        "      y_hat_train = np.matmul(X_train, w)+b\n",
        "      y_hat_test = np.matmul(X_test, w) + b\n",
        "      train_error.append(L2_error(y_train, y_hat_train))\n",
        "      test_error.append(L2_error(y_test, y_hat_test))\n",
        "\n",
        "      # kfold cross validation\n",
        "      cv_lambda_errors = []\n",
        "      for i in range(5):\n",
        "        cv_x_train = cv_xsets_train[i]\n",
        "        cv_y_train = cv_ysets_train[i]\n",
        "        cv_x_val = cv_xsets_val[i]\n",
        "        cv_y_val = cv_ysets_val[i]\n",
        "        (w_cv, b_cv) = LinearRegressionL2(cv_x_train, cv_y_train, lambda_)\n",
        "        cv_y_hat_val = np.matmul(cv_x_val, w_cv) + b_cv\n",
        "        cv_lambda_errors.append(L2_error(cv_y_val, cv_y_hat_val))\n",
        "      cv_error.append(np.mean(cv_lambda_errors))\n",
        "        \n",
        "    # Get best lambda\n",
        "    best_lam_ind = cv_error.index(min(cv_error))\n",
        "    best_lam_val_error = min(cv_error)\n",
        "    best_lam = lambdas[best_lam_ind]\n",
        "    # Train model using the best lambda\n",
        "    (w_best, b_best) = LinearRegressionL2(X_train, y_train, best_lam)\n",
        "    best_lam_y_hat_train = np.matmul(X_train, w_best) + b_best\n",
        "    best_lam_y_hat_test = np.matmul(X_test, w_best) + b_best\n",
        "    best_train_error = L2_error(y_train, best_lam_y_hat_train)\n",
        "    best_test_error = L2_error(y_test, best_lam_y_hat_test)\n",
        "    print(\"Chosen lambda: \" + str(best_lam))\n",
        "    print(\"w: \" + str(w_best))\n",
        "    print(\"b: \" + str(b_best))\n",
        "    print(\"Training error: \" + str(best_train_error))\n",
        "    print(\"Validation error: \" + str(best_lam_val_error))\n",
        "    print(\"Testing error: \" + str(best_test_error))\n",
        "\n",
        "    # <---- Your code ends here ---->\n",
        "        \n",
        "    plt.plot(range(len(lambdas)), train_error, label='training error')\n",
        "    plt.plot(range(len(lambdas)), cv_error, label='cv error')\n",
        "    plt.plot(range(len(lambdas)), test_error, label='test error')\n",
        "    plt.legend(bbox_to_anchor=(1.05, 1), loc='upper left', borderaxespad=0.)\n",
        "    plt.title('Regression on ' + str(percent) + '% of the training data')\n",
        "    plt.ylabel('L2 error')\n",
        "    plt.xlabel('Lambda Value')\n",
        "    plt.xticks(range(len(lambdas)), lambdas, rotation=45)\n",
        "    plt.show()"
      ],
      "execution_count": 105,
      "outputs": [
        {
          "output_type": "stream",
          "name": "stdout",
          "text": [
            "Chosen lambda: 2\n",
            "w: [[    67.08145868]\n",
            " [  3055.67909343]\n",
            " [    54.69893139]\n",
            " [  3813.31573132]\n",
            " [ -5578.44702909]\n",
            " [-10640.65175015]\n",
            " [  5749.09863318]\n",
            " [  1009.23632028]\n",
            " [  -241.68276576]\n",
            " [  1333.60698042]\n",
            " [  3695.0385993 ]\n",
            " [   925.23480764]]\n",
            "b: [3629.90337799]\n",
            "Training error: 70408463.21094105\n",
            "Validation error: 128019713.91205886\n",
            "Testing error: 149404817.12307724\n"
          ]
        },
        {
          "output_type": "display_data",
          "data": {
            "text/plain": [
              "<Figure size 432x288 with 1 Axes>"
            ],
            "image/png": "[encoded data removed]"
          },
          "metadata": {
            "needs_background": "light"
          }
        },
        {
          "output_type": "stream",
          "name": "stdout",
          "text": [
            "Chosen lambda: 0.5\n",
            "w: [[    39.37818835]\n",
            " [  1008.11420604]\n",
            " [   734.11200175]\n",
            " [  1320.59237091]\n",
            " [ -9102.39095707]\n",
            " [-14131.67155068]\n",
            " [  4186.85721174]\n",
            " [   466.42022024]\n",
            " [   703.23285461]\n",
            " [  3996.51727253]\n",
            " [   929.10506371]\n",
            " [  1271.86710172]]\n",
            "b: [24886.55526622]\n",
            "Training error: 86788635.72657265\n",
            "Validation error: 89346140.64531562\n",
            "Testing error: 91589366.03702724\n"
          ]
        },
        {
          "output_type": "display_data",
          "data": {
            "text/plain": [
              "<Figure size 432x288 with 1 Axes>"
            ],
            "image/png": "[encoded data removed]"
          },
          "metadata": {
            "needs_background": "light"
          }
        }
      ]
    },
    {
      "cell_type": "markdown",
      "metadata": {
        "id": "0zkrzJ8LYWNv"
      },
      "source": [
        "#### Q3.3.3-3.3.4: Report on Latex (5 points + 4 points)\n",
        "Answer the following questions on Latex in the respective section.\n",
        "\n",
        "3.2.3 For each of the two training sets considered above (5$\\%$ and 100$\\%$), compare the training and test errors of the models learned using unregularized least squares regression and ridge regression. What can you conclude from this about the value of regularization for small and large training sets?\n",
        "\n",
        "3.2.4 For each of the two training sets considered above (5$\\%$ and 100$\\%$), Which $\\lambda$ should be larger by theory?why? Do those values align with the conclusion you made in part 3.2.3?\n"
      ]
    },
    {
      "cell_type": "markdown",
      "metadata": {
        "id": "iqECw4f6LJCx"
      },
      "source": [
        "# Submission\n",
        "\n",
        "**Due Tuesday 27th September, 11:59pm**\n",
        "\n",
        "There are 3 deliverables you need to submit to Gradescope.\n",
        "\n",
        "1. A PDF compilation of hw2.tex with your name(s) in agreement.\n",
        "\n",
        "2. Your .ipynb file. Named, hw2.ipynb\n",
        "\n",
        "3. Your .py file. Named, hw2.py\n",
        "\n",
        "(to get 2 and 3, in this Colab notebook go to File -> Download)\n",
        "\n",
        "If you are working in pairs make sure to add your team member’s name on Gradescope when submitting\n"
      ]
    }
  ]
}